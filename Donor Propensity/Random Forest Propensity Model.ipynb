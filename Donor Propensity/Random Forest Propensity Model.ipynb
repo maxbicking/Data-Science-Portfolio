{
 "cells": [
  {
   "cell_type": "code",
   "execution_count": 4,
   "metadata": {},
   "outputs": [],
   "source": [
    "import pandas as pd\n",
    "import numpy as np\n",
    "from sklearn.model_selection import train_test_split\n",
    "from sklearn.preprocessing import LabelEncoder, StandardScaler\n",
    "from sklearn.feature_selection import chi2, mutual_info_classif\n",
    "from sklearn.ensemble import RandomForestClassifier\n",
    "from sklearn.metrics import classification_report, roc_auc_score\n",
    "import seaborn as sns\n",
    "import matplotlib.pyplot as plt"
   ]
  },
  {
   "cell_type": "markdown",
   "metadata": {},
   "source": [
    "Load Data"
   ]
  },
  {
   "cell_type": "code",
   "execution_count": 32,
   "metadata": {},
   "outputs": [],
   "source": [
    "contacts_df = pd.read_csv(r\"C:\\Users\\maxwell.bicking\\Downloads\\contacts_for_donor_propensity.csv\")\n",
    "\n",
    "#import median income by zip code data from Census Bureau\n",
    "census_df = pd.read_csv(r\"C:\\Users\\maxwell.bicking\\data-science-portfolio\\Donor Propensity\\Median Income by ZIP.csv\")\n",
    "\n",
    "census_df['ZIP'] = census_df['Geographic Area Name'].str.strip().str[-5:] #add zip column to join to contact table\n",
    "\n",
    "df = contacts_df.merge(\n",
    "    census_df[['ZIP', 'Median Income']],\n",
    "    left_on='MAILING_ZIP_CODE',\n",
    "    right_on='ZIP',\n",
    "    how='left'\n",
    ")\n",
    "\n",
    "df = df.drop(columns='ZIP')"
   ]
  },
  {
   "cell_type": "code",
   "execution_count": null,
   "metadata": {},
   "outputs": [],
   "source": [
    "df.isna().sum()"
   ]
  },
  {
   "cell_type": "code",
   "execution_count": null,
   "metadata": {},
   "outputs": [
    {
     "data": {
      "text/plain": [
       "'\\nCleaning steps:\\n\\nNulls:\\n-Gender, race -> \"No answer\"\\n-country, zip, Income level, institution type, primary research area, highest degree, political party -> unknown\\n-Member type, mem status -> nonmember\\n\\n'"
      ]
     },
     "execution_count": 29,
     "metadata": {},
     "output_type": "execute_result"
    }
   ],
   "source": [
    "\"\"\"\n",
    "Cleaning steps:\n",
    "\n",
    "Nulls:\n",
    "-Gender, race -> \"No answer\"\n",
    "-country, zip, Income level, institution type, primary research area, highest degree, political party -> unknown\n",
    "-Member type, mem status -> nonmember\n",
    "\n",
    "\n",
    "Add binary column \"has donated in the last year\"\n",
    "\n",
    "Add binary column \"is top donor\" for total >$1M\n",
    "\n",
    "Add net worth category i.e.\n",
    "        CASE \n",
    "            WHEN CON.\"net_worth\" < 10000000 THEN '1 - Standard'\n",
    "            WHEN CON.\"net_worth\" < 100000000 THEN '2 - High'\n",
    "            WHEN CON.\"net_worth\" < 1000000000 THEN '3 - Very High'\n",
    "            WHEN CON.\"net_worth\" >= 1000000000 THEN '4 - Ultra High'\n",
    "\n",
    "NEED TO FIX TOTAL AMOUNT LOGIC            \n",
    "\n",
    "\n",
    "\"\"\"\n",
    "\n"
   ]
  },
  {
   "cell_type": "code",
   "execution_count": null,
   "metadata": {},
   "outputs": [],
   "source": [
    "# -------- Step 1: Load data --------\n",
    "df = pd.read_csv(\"your_data.csv\")  # Update this path\n",
    "target_col = \"donated_last_year\"   # Binary target column\n",
    "\n",
    "# -------- Step 2: Split features --------\n",
    "categorical_cols = df.select_dtypes(include=[\"object\", \"category\"]).columns.tolist()\n",
    "numerical_cols = df.select_dtypes(include=[\"int64\", \"float64\"]).columns.tolist()\n",
    "numerical_cols = [col for col in numerical_cols if col != target_col]\n",
    "\n",
    "#handle nulls\n",
    "df[numerical_cols] = df[numerical_cols].fillna(df[numerical_cols].median())\n",
    "df[categorical_cols] = df[categorical_cols].fillna(df[categorical_cols].mode().iloc[0])\n",
    "\n",
    "\n",
    "\n",
    "# -------- Step 3: Chi-Squared for Categoricals --------\n",
    "le = LabelEncoder()\n",
    "X_cat = df[categorical_cols].apply(lambda col: le.fit_transform(col.astype(str)))\n",
    "chi2_vals, p_vals = chi2(X_cat, df[target_col])\n",
    "chi2_scores = pd.DataFrame({\n",
    "    \"Feature\": categorical_cols,\n",
    "    \"Importance\": chi2_vals,\n",
    "    \"p_value\": p_vals,\n",
    "    \"Method\": \"Chi2\"\n",
    "})\n",
    "\n",
    "# -------- Step 4: Mutual Info for Numericals --------\n",
    "X_num = df[numerical_cols].fillna(0)\n",
    "mi_scores = mutual_info_classif(X_num, df[target_col])\n",
    "mi_df = pd.DataFrame({\n",
    "    \"Feature\": numerical_cols,\n",
    "    \"Importance\": mi_scores,\n",
    "    \"Method\": \"Mutual_Info\"\n",
    "})\n",
    "\n",
    "# -------- Step 5: Correlation Matrix (Optional) --------\n",
    "corr_matrix = df[numerical_cols + [target_col]].corr()\n",
    "plt.figure(figsize=(10, 8))\n",
    "sns.heatmap(corr_matrix, annot=True, cmap=\"coolwarm\", fmt=\".2f\")\n",
    "plt.title(\"Correlation Matrix\")\n",
    "plt.show()\n",
    "\n",
    "# -------- Step 6: Combine Feature Scores --------\n",
    "feature_scores = pd.concat([chi2_scores, mi_df])\n",
    "feature_scores = feature_scores.sort_values(\"Importance\", ascending=False)\n",
    "print(\"\\nTop Features (Pre-Model):\")\n",
    "print(feature_scores.head(10))\n",
    "\n",
    "# -------- Step 7: One-Hot Encode + Scale --------\n",
    "X = pd.get_dummies(df.drop(columns=[target_col]), drop_first=True)\n",
    "y = df[target_col]\n",
    "X_scaled = StandardScaler().fit_transform(X)\n",
    "\n",
    "# -------- Step 8: Train/Test Split --------\n",
    "X_train, X_test, y_train, y_test = train_test_split(X_scaled, y, test_size=0.3, random_state=42)\n",
    "\n",
    "# -------- Step 9: Train Model --------\n",
    "model = RandomForestClassifier(class_weight=\"balanced\", random_state=42)\n",
    "model.fit(X_train, y_train)\n",
    "\n",
    "# -------- Step 10: Evaluate Model --------\n",
    "y_pred = model.predict(X_test)\n",
    "y_prob = model.predict_proba(X_test)[:, 1]\n",
    "\n",
    "print(\"\\nClassification Report:\\n\", classification_report(y_test, y_pred))\n",
    "print(\"ROC AUC Score:\", roc_auc_score(y_test, y_prob))\n",
    "\n",
    "# -------- Step 11: Model-Based Feature Importance --------\n",
    "model_feature_importance = pd.Series(model.feature_importances_, index=X.columns)\n",
    "model_top_features = model_feature_importance.sort_values(ascending=False).head(10)\n",
    "print(\"\\nTop Features (Model-Based):\")\n",
    "print(model_top_features)\n",
    "\n",
    "# Optional: Plot feature importances\n",
    "model_top_features.plot(kind=\"barh\", title=\"Top 10 Features (Random Forest)\")\n",
    "plt.gca().invert_yaxis()\n",
    "plt.xlabel(\"Importance\")\n",
    "plt.show()\n"
   ]
  }
 ],
 "metadata": {
  "kernelspec": {
   "display_name": "Python 3",
   "language": "python",
   "name": "python3"
  },
  "language_info": {
   "codemirror_mode": {
    "name": "ipython",
    "version": 3
   },
   "file_extension": ".py",
   "mimetype": "text/x-python",
   "name": "python",
   "nbconvert_exporter": "python",
   "pygments_lexer": "ipython3",
   "version": "3.11.3"
  }
 },
 "nbformat": 4,
 "nbformat_minor": 2
}
