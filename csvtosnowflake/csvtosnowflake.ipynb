{
 "cells": [
  {
   "cell_type": "code",
   "execution_count": null,
   "metadata": {},
   "outputs": [],
   "source": [
    "pip install snowflake-connector-python pandas python-dotenv"
   ]
  },
  {
   "cell_type": "code",
   "execution_count": 1,
   "metadata": {},
   "outputs": [],
   "source": [
    "import snowflake.connector\n",
    "import pandas as pd\n",
    "import os\n",
    "from dotenv import load_dotenv"
   ]
  },
  {
   "cell_type": "code",
   "execution_count": null,
   "metadata": {},
   "outputs": [],
   "source": [
    "#store your snowflake credentials here first\n",
    "'''\n",
    "with open('.env', 'w') as f:\n",
    "    f.write('SNOWFLAKE_USER=your_username\\n') #replace with your user\n",
    "    f.write('SNOWFLAKE_PASSWORD=your_password\\n')\n",
    "    f.write('SNOWFLAKE_ACCOUNT=your_account\\n')\n",
    "'''"
   ]
  },
  {
   "cell_type": "code",
   "execution_count": 2,
   "metadata": {},
   "outputs": [],
   "source": [
    "load_dotenv(override=True)\n",
    "\n",
    "#Snowflake connection parameters\n",
    "SNOWFLAKE_ACCOUNT = os.environ.get('SNOWFLAKE_ACCOUNT')\n",
    "SNOWFLAKE_USER = os.environ.get('SNOWFLAKE_USER')\n",
    "SNOWFLAKE_PASSWORD = os.environ.get('SNOWFLAKE_PASSWORD')\n",
    "SNOWFLAKE_DATABASE = \"TEST\"\n",
    "SNOWFLAKE_SCHEMA = \"CTI_2025_EXTRACTS\"\n",
    "SNOWFLAKE_WAREHOUSE = \"COMPUTE_WH\"\n",
    "SNOWFLAKE_STAGE = \"CTI_EXTRACT_STAGE\"\n",
    "TABLE_NAME = \"INVITED_SPEAKERS_CHAIRS\"\n",
    "STAGING_TABLE_NAME = f\"{TABLE_NAME}_staging\"\n",
    "CSV_FILE_PATH = r\"C:\\Users\\maxwell.bicking\\OneDrive - American Association for Cancer Res\\cti_report.csv\" #change this as needed\n",
    "\n",
    "snowflake_file_path = CSV_FILE_PATH.replace(\"\\\\\", \"/\")\n",
    "\n",
    "csv_filename = os.path.basename(snowflake_file_path)"
   ]
  },
  {
   "cell_type": "code",
   "execution_count": 3,
   "metadata": {},
   "outputs": [
    {
     "name": "stderr",
     "output_type": "stream",
     "text": [
      "c:\\Users\\maxwell.bicking\\AppData\\Local\\Programs\\Python\\Python311\\Lib\\site-packages\\snowflake\\connector\\config_manager.py:351: UserWarning: Bad owner or permissions on C:\\Users\\maxwell.bicking\\.snowflake\\connections.toml\n",
      "  warn(f\"Bad owner or permissions on {str(filep)}{chmod_message}\")\n"
     ]
    },
    {
     "name": "stdout",
     "output_type": "stream",
     "text": [
      "Creating or replacing staging table...\n",
      "Uploading file 'cti_report.csv' to Snowflake stage...\n",
      "Uploaded files: [('cti_extract_stage/cti_report.csv.gz', 113040, '4a066a6f6039435a3cf81fe92b954528', 'Tue, 25 Mar 2025 13:56:48 GMT')]\n",
      "Truncating staging table and loading new data...\n",
      "Executing COPY INTO command: \n",
      "        COPY INTO INVITED_SPEAKERS_CHAIRS_staging\n",
      "        FROM @CTI_EXTRACT_STAGE/cti_report.csv\n",
      "        FILE_FORMAT = my_csv_format\n",
      "        ON_ERROR = 'CONTINUE';\n",
      "    \n",
      "Verifying data in staging table INVITED_SPEAKERS_CHAIRS_staging...\n",
      "Rows in staging table: 1779\n",
      "Swapping staging table with main table...\n",
      "Table successfully overwritten with new CSV data!\n"
     ]
    }
   ],
   "source": [
    "#Connect to Snowflake, will trigger 2FA\n",
    "conn = snowflake.connector.connect(\n",
    "    user=SNOWFLAKE_USER,\n",
    "    password=SNOWFLAKE_PASSWORD,\n",
    "    account=SNOWFLAKE_ACCOUNT,\n",
    "    warehouse=SNOWFLAKE_WAREHOUSE,\n",
    "    database=SNOWFLAKE_DATABASE,\n",
    "    schema=SNOWFLAKE_SCHEMA\n",
    ")\n",
    "cur = conn.cursor()\n",
    "\n",
    "try:\n",
    "    #Step 0: Create/replace staging table \n",
    "    print(\"Creating or replacing staging table...\")\n",
    "    cur.execute(f\"CREATE OR REPLACE TABLE {STAGING_TABLE_NAME} LIKE {TABLE_NAME};\")\n",
    "\n",
    "    #Step 1: Upload CSV file to Snowflake stage\n",
    "    print(f\"Uploading file '{csv_filename}' to Snowflake stage...\")\n",
    "    cur.execute(f\"PUT 'file://{snowflake_file_path}' @{SNOWFLAKE_STAGE} OVERWRITE = TRUE;\")\n",
    "    \n",
    "    #Check if the file is uploaded\n",
    "    cur.execute(f\"LIST @{SNOWFLAKE_STAGE};\")\n",
    "    uploaded_files = cur.fetchall()\n",
    "    print(\"Uploaded files:\", uploaded_files)\n",
    "    \n",
    "    if not uploaded_files:\n",
    "        raise Exception(f\"No files found in stage @{SNOWFLAKE_STAGE}\")\n",
    "\n",
    "    #Step 2: Truncate the staging table and load new data\n",
    "    print(\"Truncating staging table and loading new data...\")\n",
    "    cur.execute(f\"TRUNCATE TABLE {STAGING_TABLE_NAME};\")\n",
    "\n",
    "    #Create a file format explicitly for CSV and GZIP compression\n",
    "    file_format = \"\"\"\n",
    "    CREATE OR REPLACE FILE FORMAT my_csv_format\n",
    "    TYPE = 'CSV'\n",
    "    FIELD_OPTIONALLY_ENCLOSED_BY = '\"'\n",
    "    SKIP_HEADER = 1\n",
    "    COMPRESSION = 'GZIP'\n",
    "    FIELD_DELIMITER = ','\n",
    "    NULL_IF = ('NULL', 'null', '');\n",
    "    \"\"\"\n",
    "\n",
    "    #Ensure that file format exists\n",
    "    cur.execute(file_format)\n",
    "    \n",
    "    #Now copy the data using the correct file format\n",
    "    copy_command = f\"\"\"\n",
    "        COPY INTO {STAGING_TABLE_NAME}\n",
    "        FROM @{SNOWFLAKE_STAGE}/{csv_filename}\n",
    "        FILE_FORMAT = my_csv_format\n",
    "        ON_ERROR = 'CONTINUE';\n",
    "    \"\"\"\n",
    "    print(f\"Executing COPY INTO command: {copy_command}\")\n",
    "    cur.execute(copy_command)\n",
    "\n",
    "    #Step 3: Verify if data is in staging table\n",
    "    print(f\"Verifying data in staging table {STAGING_TABLE_NAME}...\")\n",
    "    cur.execute(f\"SELECT COUNT(*) FROM {STAGING_TABLE_NAME};\")\n",
    "    rows_in_staging = cur.fetchone()[0]\n",
    "    print(f\"Rows in staging table: {rows_in_staging}\")\n",
    "    \n",
    "    if rows_in_staging == 0:\n",
    "        raise Exception(f\"No data loaded into staging table {STAGING_TABLE_NAME}\")\n",
    "\n",
    "    #Step 4: Swap staging table with the main table (instant update)\n",
    "    print(\"Swapping staging table with main table...\")\n",
    "    cur.execute(f\"ALTER TABLE {TABLE_NAME} SWAP WITH {STAGING_TABLE_NAME};\")\n",
    "\n",
    "    print(\"Table successfully overwritten with new CSV data!\")\n",
    "\n",
    "except Exception as e:\n",
    "    print(f\"Error: {e}\")\n",
    "\n",
    "finally:\n",
    "    cur.close()\n",
    "    conn.close()"
   ]
  },
  {
   "cell_type": "code",
   "execution_count": null,
   "metadata": {},
   "outputs": [],
   "source": []
  }
 ],
 "metadata": {
  "kernelspec": {
   "display_name": "Python 3",
   "language": "python",
   "name": "python3"
  },
  "language_info": {
   "codemirror_mode": {
    "name": "ipython",
    "version": 3
   },
   "file_extension": ".py",
   "mimetype": "text/x-python",
   "name": "python",
   "nbconvert_exporter": "python",
   "pygments_lexer": "ipython3",
   "version": "3.11.3"
  }
 },
 "nbformat": 4,
 "nbformat_minor": 2
}
