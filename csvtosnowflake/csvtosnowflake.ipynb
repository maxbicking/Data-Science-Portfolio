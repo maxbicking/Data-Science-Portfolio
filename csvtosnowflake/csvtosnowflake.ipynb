{
 "cells": [
  {
   "cell_type": "markdown",
   "metadata": {},
   "source": [
    "### The following will upload all files in a local folder to Snowflake tables via staging. "
   ]
  },
  {
   "cell_type": "code",
   "execution_count": 1,
   "metadata": {},
   "outputs": [
    {
     "name": "stdout",
     "output_type": "stream",
     "text": [
      "Requirement already satisfied: snowflake-connector-python in c:\\users\\maxwell.bicking\\appdata\\local\\programs\\python\\python311\\lib\\site-packages (3.12.4)\n",
      "Requirement already satisfied: pandas in c:\\users\\maxwell.bicking\\appdata\\local\\programs\\python\\python311\\lib\\site-packages (2.2.3)\n",
      "Requirement already satisfied: python-dotenv in c:\\users\\maxwell.bicking\\appdata\\local\\programs\\python\\python311\\lib\\site-packages (1.0.1)\n",
      "Requirement already satisfied: asn1crypto<2.0.0,>0.24.0 in c:\\users\\maxwell.bicking\\appdata\\local\\programs\\python\\python311\\lib\\site-packages (from snowflake-connector-python) (1.5.1)\n",
      "Requirement already satisfied: cffi<2.0.0,>=1.9 in c:\\users\\maxwell.bicking\\appdata\\local\\programs\\python\\python311\\lib\\site-packages (from snowflake-connector-python) (1.17.1)\n",
      "Requirement already satisfied: cryptography>=3.1.0 in c:\\users\\maxwell.bicking\\appdata\\local\\programs\\python\\python311\\lib\\site-packages (from snowflake-connector-python) (44.0.0)\n",
      "Requirement already satisfied: pyOpenSSL<25.0.0,>=22.0.0 in c:\\users\\maxwell.bicking\\appdata\\local\\programs\\python\\python311\\lib\\site-packages (from snowflake-connector-python) (24.3.0)\n",
      "Requirement already satisfied: pyjwt<3.0.0 in c:\\users\\maxwell.bicking\\appdata\\local\\programs\\python\\python311\\lib\\site-packages (from snowflake-connector-python) (2.10.1)\n",
      "Requirement already satisfied: pytz in c:\\users\\maxwell.bicking\\appdata\\local\\programs\\python\\python311\\lib\\site-packages (from snowflake-connector-python) (2024.2)\n",
      "Requirement already satisfied: requests<3.0.0 in c:\\users\\maxwell.bicking\\appdata\\local\\programs\\python\\python311\\lib\\site-packages (from snowflake-connector-python) (2.32.3)\n",
      "Requirement already satisfied: packaging in c:\\users\\maxwell.bicking\\appdata\\roaming\\python\\python311\\site-packages (from snowflake-connector-python) (23.1)\n",
      "Requirement already satisfied: charset_normalizer<4,>=2 in c:\\users\\maxwell.bicking\\appdata\\local\\programs\\python\\python311\\lib\\site-packages (from snowflake-connector-python) (3.4.0)\n",
      "Requirement already satisfied: idna<4,>=2.5 in c:\\users\\maxwell.bicking\\appdata\\local\\programs\\python\\python311\\lib\\site-packages (from snowflake-connector-python) (3.10)\n",
      "Requirement already satisfied: certifi>=2017.4.17 in c:\\users\\maxwell.bicking\\appdata\\local\\programs\\python\\python311\\lib\\site-packages (from snowflake-connector-python) (2024.8.30)\n",
      "Requirement already satisfied: typing_extensions<5,>=4.3 in c:\\users\\maxwell.bicking\\appdata\\local\\programs\\python\\python311\\lib\\site-packages (from snowflake-connector-python) (4.12.2)\n",
      "Requirement already satisfied: filelock<4,>=3.5 in c:\\users\\maxwell.bicking\\appdata\\local\\programs\\python\\python311\\lib\\site-packages (from snowflake-connector-python) (3.16.1)\n",
      "Requirement already satisfied: sortedcontainers>=2.4.0 in c:\\users\\maxwell.bicking\\appdata\\local\\programs\\python\\python311\\lib\\site-packages (from snowflake-connector-python) (2.4.0)\n",
      "Requirement already satisfied: platformdirs<5.0.0,>=2.6.0 in c:\\users\\maxwell.bicking\\appdata\\roaming\\python\\python311\\site-packages (from snowflake-connector-python) (3.5.1)\n",
      "Requirement already satisfied: tomlkit in c:\\users\\maxwell.bicking\\appdata\\local\\programs\\python\\python311\\lib\\site-packages (from snowflake-connector-python) (0.13.2)\n",
      "Requirement already satisfied: numpy>=1.23.2 in c:\\users\\maxwell.bicking\\appdata\\local\\programs\\python\\python311\\lib\\site-packages (from pandas) (2.1.2)\n",
      "Requirement already satisfied: python-dateutil>=2.8.2 in c:\\users\\maxwell.bicking\\appdata\\roaming\\python\\python311\\site-packages (from pandas) (2.8.2)\n",
      "Requirement already satisfied: tzdata>=2022.7 in c:\\users\\maxwell.bicking\\appdata\\local\\programs\\python\\python311\\lib\\site-packages (from pandas) (2024.2)\n",
      "Requirement already satisfied: pycparser in c:\\users\\maxwell.bicking\\appdata\\local\\programs\\python\\python311\\lib\\site-packages (from cffi<2.0.0,>=1.9->snowflake-connector-python) (2.22)\n",
      "Requirement already satisfied: six>=1.5 in c:\\users\\maxwell.bicking\\appdata\\roaming\\python\\python311\\site-packages (from python-dateutil>=2.8.2->pandas) (1.16.0)\n",
      "Requirement already satisfied: urllib3<3,>=1.21.1 in c:\\users\\maxwell.bicking\\appdata\\local\\programs\\python\\python311\\lib\\site-packages (from requests<3.0.0->snowflake-connector-python) (2.2.3)\n",
      "Note: you may need to restart the kernel to use updated packages.\n"
     ]
    },
    {
     "name": "stderr",
     "output_type": "stream",
     "text": [
      "\n",
      "[notice] A new release of pip available: 22.3.1 -> 25.0.1\n",
      "[notice] To update, run: python.exe -m pip install --upgrade pip\n"
     ]
    }
   ],
   "source": [
    "pip install snowflake-connector-python pandas python-dotenv"
   ]
  },
  {
   "cell_type": "code",
   "execution_count": null,
   "metadata": {},
   "outputs": [],
   "source": [
    "import os\n",
    "import re\n",
    "import pandas as pd\n",
    "import snowflake.connector\n",
    "from snowflake.connector import connect\n",
    "from dotenv import load_dotenv\n",
    "import logging\n",
    "import urllib.parse"
   ]
  },
  {
   "cell_type": "code",
   "execution_count": null,
   "metadata": {},
   "outputs": [],
   "source": [
    "#Path to CSV folder\n",
    "csv_folder = os.getenv(\"FOLDER_PATH\")"
   ]
  },
  {
   "cell_type": "code",
   "execution_count": null,
   "metadata": {},
   "outputs": [],
   "source": [
    "load_dotenv(override=True)\n",
    "\n",
    "#Establish Snowflake connection\n",
    "conn = connect(\n",
    "    user=os.getenv(\"SNOWFLAKE_USER\"),\n",
    "    password=os.getenv(\"SNOWFLAKE_PASSWORD\"),\n",
    "    account=os.getenv(\"SNOWFLAKE_ACCOUNT\"),\n",
    "    warehouse=os.getenv(\"WAREHOUSE_NAME\"),\n",
    "    database=os.getenv(\"DATABASE_NAME\"),\n",
    "    schema=os.getenv(\"SCHEMA_NAME\")\n",
    ")\n",
    "cur = conn.cursor()\n",
    "\n",
    "\n",
    "#Loop through all CSVs\n",
    "for filename in os.listdir(csv_folder):\n",
    "    if not filename.endswith(\".csv\"):\n",
    "        continue\n",
    "\n",
    "    filepath = os.path.join(csv_folder, filename)\n",
    "    table_name = os.path.splitext(filename)[0].upper().replace(\" \", \"_\").replace(\"-\", \"_\")\n",
    "\n",
    "    print(f\"Processing: {filename}\")\n",
    "\n",
    "    #Preview file with pandas to determine column types\n",
    "    try:\n",
    "        df_sample = pd.read_csv(filepath, nrows=100, encoding='utf-8', on_bad_lines='skip')\n",
    "        print(f\"{filename} loaded with UTF-8 encoding.\")\n",
    "    except UnicodeDecodeError:\n",
    "        df_sample = pd.read_csv(filepath, nrows=100, encoding='windows-1252', on_bad_lines='skip')\n",
    "        print(f\"{filename} loaded with Windows-1252 encoding.\")\n",
    "        \n",
    "    #Build CREATE TABLE query, make sure column datatypes are parsed correctly\n",
    "    col_defs = []\n",
    "    for col, dtype in zip(df_sample.columns, df_sample.dtypes):\n",
    "        col_sql = col.upper().replace(\" \", \"_\").replace(\"-\", \"_\")\n",
    "        if pd.api.types.is_integer_dtype(dtype):\n",
    "            sql_type = \"NUMBER\"\n",
    "        elif pd.api.types.is_float_dtype(dtype):\n",
    "            sql_type = \"FLOAT\"\n",
    "        elif pd.api.types.is_bool_dtype(dtype):\n",
    "            sql_type = \"BOOLEAN\"\n",
    "        elif pd.api.types.is_datetime64_any_dtype(dtype):\n",
    "            sql_type = \"TIMESTAMP_NTZ\"\n",
    "        else:\n",
    "            sql_type = \"VARCHAR\"\n",
    "        col_defs.append(f'\"{col_sql}\" {sql_type}')\n",
    "    \n",
    "    create_stmt = f'CREATE OR REPLACE TABLE \"MARKETING_CLOUD_EXTRACTS\".\"{table_name}\" ({\", \".join(col_defs)});' #each table name points to new Snowflake table in schema\n",
    "    cur.execute(create_stmt)\n",
    "    print(f\"✅ Created table: {table_name}\")\n",
    "\n",
    "    #Upload to internal stage\n",
    "    escaped_path = filepath.replace(\"\\\\\", \"/\")  #deal with annoying slash problem\n",
    "    put_stmt = f\"PUT 'file://{escaped_path}' @MC_EXTRACT_STAGE AUTO_COMPRESS=TRUE OVERWRITE=TRUE\"\n",
    "    cur.execute(put_stmt) #execute the query\n",
    "    print(f\"Uploaded to stage: {filename}\") #check that file was uploaded to stage\n",
    "\n",
    "    #COPY INTO table\n",
    "    copy_stmt = f\"\"\"\n",
    "        COPY INTO MARKETING_CLOUD_EXTRACTS.{table_name}\n",
    "        FROM @MC_EXTRACT_STAGE/{filename}.gz\n",
    "        FILE_FORMAT = (TYPE = CSV SKIP_HEADER = 1 FIELD_OPTIONALLY_ENCLOSED_BY = '\"')\n",
    "        ON_ERROR = 'CONTINUE';\n",
    "    \"\"\"\n",
    "    cur.execute(copy_stmt)\n",
    "    print(f\"✅ Loaded into table: {table_name}\\n\") #check again, icon is unnecessary but helps readability\n",
    "\n",
    "cur.close()\n",
    "conn.close()\n",
    "print(\"All files uploaded and loaded successfully.\")"
   ]
  }
 ],
 "metadata": {
  "kernelspec": {
   "display_name": "Python 3",
   "language": "python",
   "name": "python3"
  },
  "language_info": {
   "codemirror_mode": {
    "name": "ipython",
    "version": 3
   },
   "file_extension": ".py",
   "mimetype": "text/x-python",
   "name": "python",
   "nbconvert_exporter": "python",
   "pygments_lexer": "ipython3",
   "version": "3.11.3"
  }
 },
 "nbformat": 4,
 "nbformat_minor": 2
}
